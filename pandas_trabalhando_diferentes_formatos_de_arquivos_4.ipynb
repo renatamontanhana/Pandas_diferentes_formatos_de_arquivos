{
  "nbformat": 4,
  "nbformat_minor": 0,
  "metadata": {
    "colab": {
      "provenance": [],
      "authorship_tag": "ABX9TyPPt0HkrPFZYWyse6Jzjjn0",
      "include_colab_link": true
    },
    "kernelspec": {
      "name": "python3",
      "display_name": "Python 3"
    },
    "language_info": {
      "name": "python"
    }
  },
  "cells": [
    {
      "cell_type": "markdown",
      "metadata": {
        "id": "view-in-github",
        "colab_type": "text"
      },
      "source": [
        "<a href=\"https://colab.research.google.com/github/renatamontanhana/Pandas_diferentes_formatos_de_arquivos/blob/main/pandas_trabalhando_diferentes_formatos_de_arquivos_4.ipynb\" target=\"_parent\"><img src=\"https://colab.research.google.com/assets/colab-badge.svg\" alt=\"Open In Colab\"/></a>"
      ]
    },
    {
      "cell_type": "code",
      "execution_count": 1,
      "metadata": {
        "id": "LDxSKnPU242d"
      },
      "outputs": [],
      "source": [
        "import pandas as pd"
      ]
    },
    {
      "cell_type": "code",
      "source": [
        "dados_html = pd.read_html('/content/filmes_wikipedia.html')"
      ],
      "metadata": {
        "id": "zmnP6n9V4O_U"
      },
      "execution_count": 3,
      "outputs": []
    },
    {
      "cell_type": "code",
      "source": [
        "dados_html"
      ],
      "metadata": {
        "colab": {
          "base_uri": "https://localhost:8080/"
        },
        "id": "IVirDrj84uWx",
        "outputId": "ddbb69ae-c07c-4d25-f962-93500168819b"
      },
      "execution_count": 4,
      "outputs": [
        {
          "output_type": "execute_result",
          "data": {
            "text/plain": [
              "[                                                    0  \\\n",
              " 0                                                1998   \n",
              " 1                                                1999   \n",
              " 2                                                2000   \n",
              " 3                                                2001   \n",
              " 4                                                2002   \n",
              " 5                                                2003   \n",
              " 6                                                2004   \n",
              " 7                                                2005   \n",
              " 8                                                2005   \n",
              " 9                                                2006   \n",
              " 10                                               2006   \n",
              " 11                                               2007   \n",
              " 12                                               2008   \n",
              " 13  .mw-parser-output .hlist dl,.mw-parser-output ...   \n",
              " \n",
              "                                                     1  \n",
              " 0                                          100 Movies  \n",
              " 1                                           100 Stars  \n",
              " 2                                          100 Laughs  \n",
              " 3                                         100 Thrills  \n",
              " 4                                        100 Passions  \n",
              " 5                               100 Heroes & Villains  \n",
              " 6                                           100 Songs  \n",
              " 7                                    100 Movie Quotes  \n",
              " 8                                           25 Scores  \n",
              " 9                                          100 Cheers  \n",
              " 10                                        25 Musicals  \n",
              " 11                               100 Movies (Updated)  \n",
              " 12                                    AFI's 10 Top 10  \n",
              " 13  .mw-parser-output .hlist dl,.mw-parser-output ...  ,\n",
              "                             Film  Release year              Director  \\\n",
              " 0                   Citizen Kane          1941          Orson Welles   \n",
              " 1                     Casablanca          1942        Michael Curtiz   \n",
              " 2                  The Godfather          1972  Francis Ford Coppola   \n",
              " 3             Gone with the Wind          1939        Victor Fleming   \n",
              " 4             Lawrence of Arabia          1962            David Lean   \n",
              " ..                           ...           ...                   ...   \n",
              " 95                 The Searchers          1956             John Ford   \n",
              " 96              Bringing Up Baby          1938          Howard Hawks   \n",
              " 97                    Unforgiven          1992        Clint Eastwood   \n",
              " 98  Guess Who's Coming to Dinner          1967        Stanley Kramer   \n",
              " 99           Yankee Doodle Dandy          1942        Michael Curtiz   \n",
              " \n",
              "                       Production companies  Rank  \n",
              " 0                       RKO Radio Pictures     1  \n",
              " 1                    Warner Bros. Pictures     2  \n",
              " 2   Paramount Pictures, Alfran Productions     3  \n",
              " 3          Selznick International Pictures     4  \n",
              " 4                         Horizon Pictures     5  \n",
              " ..                                     ...   ...  \n",
              " 95                  C. V. Whitney Pictures    96  \n",
              " 96                      RKO Radio Pictures    97  \n",
              " 97                     The Malpaso Company    98  \n",
              " 98                       Columbia Pictures    99  \n",
              " 99                   Warner Bros. Pictures   100  \n",
              " \n",
              " [100 rows x 5 columns],\n",
              "           hidevteAFI's 100 Years...100 Movies (1998)  \\\n",
              " 0  Citizen Kane (1941) Casablanca (1942) The Godf...   \n",
              " \n",
              "         hidevteAFI's 100 Years...100 Movies (1998).1  \n",
              " 0  Citizen Kane (1941) Casablanca (1942) The Godf...  ]"
            ]
          },
          "metadata": {},
          "execution_count": 4
        }
      ]
    },
    {
      "cell_type": "code",
      "source": [],
      "metadata": {
        "id": "ceBub60T4yHz"
      },
      "execution_count": null,
      "outputs": []
    }
  ]
}