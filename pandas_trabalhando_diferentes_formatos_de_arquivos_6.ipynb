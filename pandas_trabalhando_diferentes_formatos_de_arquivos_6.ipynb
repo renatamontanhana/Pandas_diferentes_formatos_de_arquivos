{
  "nbformat": 4,
  "nbformat_minor": 0,
  "metadata": {
    "colab": {
      "provenance": [],
      "authorship_tag": "ABX9TyPNMj/1nYXtCBIVo5Wm+Ll5",
      "include_colab_link": true
    },
    "kernelspec": {
      "name": "python3",
      "display_name": "Python 3"
    },
    "language_info": {
      "name": "python"
    }
  },
  "cells": [
    {
      "cell_type": "markdown",
      "metadata": {
        "id": "view-in-github",
        "colab_type": "text"
      },
      "source": [
        "<a href=\"https://colab.research.google.com/github/renatamontanhana/Pandas_diferentes_formatos_de_arquivos/blob/main/pandas_trabalhando_diferentes_formatos_de_arquivos_6.ipynb\" target=\"_parent\"><img src=\"https://colab.research.google.com/assets/colab-badge.svg\" alt=\"Open In Colab\"/></a>"
      ]
    },
    {
      "cell_type": "code",
      "execution_count": null,
      "metadata": {
        "id": "wODyB09Wl3TS"
      },
      "outputs": [],
      "source": [
        "import pandas as pd\n",
        "import sqlalchemy\n"
      ]
    },
    {
      "cell_type": "code",
      "source": [
        "sqlalchemy.__version__\n"
      ],
      "metadata": {
        "colab": {
          "base_uri": "https://localhost:8080/",
          "height": 35
        },
        "id": "4s1PyqNOl9Mx",
        "outputId": "61398909-5230-44e1-e4c0-c1d12e6a37ca"
      },
      "execution_count": null,
      "outputs": [
        {
          "output_type": "execute_result",
          "data": {
            "text/plain": [
              "'2.0.16'"
            ],
            "application/vnd.google.colaboratory.intrinsic+json": {
              "type": "string"
            }
          },
          "metadata": {},
          "execution_count": 2
        }
      ]
    },
    {
      "cell_type": "code",
      "source": [
        "pip install --upgrade 'sqlalchemy<2.0'\n"
      ],
      "metadata": {
        "colab": {
          "base_uri": "https://localhost:8080/"
        },
        "id": "28EHgq3vmECl",
        "outputId": "ba6fd79e-9d36-4beb-8bab-72559ba71a44"
      },
      "execution_count": null,
      "outputs": [
        {
          "output_type": "stream",
          "name": "stdout",
          "text": [
            "Collecting sqlalchemy<2.0\n",
            "  Downloading SQLAlchemy-1.4.49-cp310-cp310-manylinux_2_5_x86_64.manylinux1_x86_64.manylinux_2_17_x86_64.manylinux2014_x86_64.whl (1.6 MB)\n",
            "\u001b[2K     \u001b[90m━━━━━━━━━━━━━━━━━━━━━━━━━━━━━━━━━━━━━━━━\u001b[0m \u001b[32m1.6/1.6 MB\u001b[0m \u001b[31m22.4 MB/s\u001b[0m eta \u001b[36m0:00:00\u001b[0m\n",
            "\u001b[?25hRequirement already satisfied: greenlet!=0.4.17 in /usr/local/lib/python3.10/dist-packages (from sqlalchemy<2.0) (2.0.2)\n"
          ]
        }
      ]
    },
    {
      "cell_type": "code",
      "source": [
        "from sqlalchemy import create_engine, MetaData, Table, inspect"
      ],
      "metadata": {
        "id": "qTn0goOhmNnY"
      },
      "execution_count": null,
      "outputs": []
    },
    {
      "cell_type": "code",
      "source": [
        "engine = create_engine('sqlite:///:memory:')"
      ],
      "metadata": {
        "id": "OnZb4jktm5jZ"
      },
      "execution_count": null,
      "outputs": []
    },
    {
      "cell_type": "code",
      "source": [
        "url = 'https://raw.githubusercontent.com/alura-cursos/Pandas/main/clientes_banco.csv'"
      ],
      "metadata": {
        "id": "VCUMa7d-sGpI"
      },
      "execution_count": null,
      "outputs": []
    },
    {
      "cell_type": "code",
      "source": [
        "import pandas as pd"
      ],
      "metadata": {
        "id": "UApUiWKzs7XI"
      },
      "execution_count": null,
      "outputs": []
    },
    {
      "cell_type": "code",
      "source": [
        "dados = pd.read_csv(url)"
      ],
      "metadata": {
        "id": "nlyVBoVRs9U7"
      },
      "execution_count": null,
      "outputs": []
    },
    {
      "cell_type": "code",
      "source": [
        "dados.head()"
      ],
      "metadata": {
        "id": "fSiEBI2NtFYq"
      },
      "execution_count": null,
      "outputs": []
    },
    {
      "cell_type": "code",
      "source": [
        "dados.to_sql('clientes', engine, index=False)"
      ],
      "metadata": {
        "id": "GEGEzNSltIP7"
      },
      "execution_count": null,
      "outputs": []
    },
    {
      "cell_type": "code",
      "source": [
        "inspector = inspect(engine)"
      ],
      "metadata": {
        "id": "0uVvQVWhtghY"
      },
      "execution_count": null,
      "outputs": []
    },
    {
      "cell_type": "code",
      "source": [
        "print(inspector.get_table_names())"
      ],
      "metadata": {
        "id": "A_bdqB9ItrHH"
      },
      "execution_count": null,
      "outputs": []
    },
    {
      "cell_type": "code",
      "source": [
        "query = 'SELECT * FROM clientes WHERE Categoria_de_renda=\"Empregado\"'"
      ],
      "metadata": {
        "id": "zeQjJIVztz8_"
      },
      "execution_count": null,
      "outputs": []
    },
    {
      "cell_type": "code",
      "source": [
        "empregados = pd.read_sql(query, engine)"
      ],
      "metadata": {
        "id": "l4hTXkfpvD-_"
      },
      "execution_count": null,
      "outputs": []
    },
    {
      "cell_type": "code",
      "source": [
        "empregados"
      ],
      "metadata": {
        "id": "bwCJQOAMvHqQ"
      },
      "execution_count": null,
      "outputs": []
    },
    {
      "cell_type": "code",
      "source": [
        "empregados.to_sql('empregados', con=engine, index=False)"
      ],
      "metadata": {
        "id": "JFKaf4O-vNG-"
      },
      "execution_count": null,
      "outputs": []
    },
    {
      "cell_type": "code",
      "source": [
        "pd.read_sql_table('empregados', engine)"
      ],
      "metadata": {
        "id": "tyEzrXvcvf7T"
      },
      "execution_count": null,
      "outputs": []
    },
    {
      "cell_type": "code",
      "source": [
        "pd.read_sql_table('empregados', engine, columns=['ID_Cliente', 'Grau_escolaridade', 'Rendimento_anual'])"
      ],
      "metadata": {
        "id": "G59-k7Ozvr7b"
      },
      "execution_count": null,
      "outputs": []
    },
    {
      "cell_type": "code",
      "source": [
        "query = 'SELECT * FROM clientes'"
      ],
      "metadata": {
        "id": "8jLwWiBnwRVD"
      },
      "execution_count": null,
      "outputs": []
    },
    {
      "cell_type": "code",
      "source": [
        "pd.read_sql(query, engine)"
      ],
      "metadata": {
        "id": "zGDXLGxXws7h"
      },
      "execution_count": null,
      "outputs": []
    },
    {
      "cell_type": "code",
      "source": [
        "query = 'DELETE FROM clientes WHERE ID_Cliente=5008804'\n",
        "with engine.connect() as conn:\n",
        "  conn.execute(query)"
      ],
      "metadata": {
        "id": "1HpA5eRIwyN1"
      },
      "execution_count": null,
      "outputs": []
    },
    {
      "cell_type": "code",
      "source": [
        "pd.read_sql_table('clientes', engine)"
      ],
      "metadata": {
        "id": "6ttqdP_zxiDa"
      },
      "execution_count": null,
      "outputs": []
    },
    {
      "cell_type": "code",
      "source": [
        "query = 'UPDATE clientes SET Grau_escolaridade = \"Ensino Superior\" WHERE ID_Cliente=5008808'\n",
        "with engine.connect() as conn:\n",
        "  conn.execute(query)"
      ],
      "metadata": {
        "id": "D838FnGbxsF7"
      },
      "execution_count": null,
      "outputs": []
    },
    {
      "cell_type": "code",
      "source": [
        "pd.read_sql_table('clientes', engine)"
      ],
      "metadata": {
        "id": "OsIz01AxyYlA"
      },
      "execution_count": null,
      "outputs": []
    },
    {
      "cell_type": "code",
      "source": [
        "import sqlalchemy\n",
        "from sqlalchemy import create_engine, MetaData, Table, inspect\n",
        "engine = create_engine('sqlite:///:memory:')\n"
      ],
      "metadata": {
        "id": "0IqobIZUygoI"
      },
      "execution_count": null,
      "outputs": []
    },
    {
      "cell_type": "code",
      "source": [
        "import pandas as pd\n",
        "url = 'https://raw.githubusercontent.com/alura-cursos/Pandas/main/clientes_banco.csv'\n",
        "dados = pd.read_csv(url)\n",
        "dados.to_sql('clientes', engine, index=False)\n"
      ],
      "metadata": {
        "id": "kgM0_bAiy5eU"
      },
      "execution_count": null,
      "outputs": []
    },
    {
      "cell_type": "code",
      "source": [
        "pd.read_sql_table('clientes', engine)\n"
      ],
      "metadata": {
        "id": "MQlggBH2zAUL"
      },
      "execution_count": null,
      "outputs": []
    },
    {
      "cell_type": "code",
      "source": [
        "query = 'UPDATE clientes SET Rendimento_anual=300000.0 WHERE ID_Cliente=6840104'\n",
        "with engine.connect() as conn:\n",
        "    conn.execute(query)\n"
      ],
      "metadata": {
        "id": "LOeeALijzEW9"
      },
      "execution_count": null,
      "outputs": []
    },
    {
      "cell_type": "code",
      "source": [
        "pd.read_sql_table('clientes', engine)\n"
      ],
      "metadata": {
        "id": "S0pMBlDUzJ3T"
      },
      "execution_count": null,
      "outputs": []
    },
    {
      "cell_type": "code",
      "source": [
        "query = 'DELETE FROM clientes WHERE ID_Cliente=5008809'\n",
        "with engine.connect() as conn:\n",
        "    conn.execute(query)\n"
      ],
      "metadata": {
        "id": "hMCDatevzUow"
      },
      "execution_count": null,
      "outputs": []
    },
    {
      "cell_type": "code",
      "source": [
        "query = 'INSERT INTO clientes (ID_Cliente, Idade, Grau_escolaridade, Estado_civil, ' \\\n",
        "        'Tamanho_familia, Categoria_de_renda, Ocupacao, Anos_empregado, ' \\\n",
        "        'Rendimento_anual, Tem_carro, Moradia) ' \\\n",
        "        'VALUES (6850985, 33, \"Doutorado\", \"Solteiro\", 1, \"Empregado\", \"TI\", ' \\\n",
        "        '2, 290000, 0, \"Casa/apartamento próprio\")'\n",
        "\n",
        "with engine.connect() as conn:\n",
        "    conn.execute(query)\n"
      ],
      "metadata": {
        "id": "P2Q-VRkNzWuf"
      },
      "execution_count": null,
      "outputs": []
    },
    {
      "cell_type": "code",
      "source": [
        "pd.read_sql_table('clientes', engine)\n"
      ],
      "metadata": {
        "id": "fHqqpEbizcBw"
      },
      "execution_count": null,
      "outputs": []
    }
  ]
}